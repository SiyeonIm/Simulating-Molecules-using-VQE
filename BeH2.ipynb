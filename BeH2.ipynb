{
 "cells": [
  {
   "cell_type": "code",
   "execution_count": 1,
   "metadata": {},
   "outputs": [],
   "source": [
    "from qiskit.aqua.algorithms import VQE, NumPyEigensolver\n",
    "import matplotlib.pyplot as plt\n",
    "import numpy as np\n",
    "from qiskit.chemistry.components.variational_forms import UCCSD\n",
    "from qiskit.chemistry.components.initial_states import HartreeFock\n",
    "from qiskit.circuit.library import EfficientSU2\n",
    "from qiskit.aqua.components.optimizers import COBYLA, SPSA, SLSQP\n",
    "from qiskit.aqua.operators import Z2Symmetries\n",
    "from qiskit import IBMQ, BasicAer, Aer\n",
    "from qiskit.chemistry.drivers import PySCFDriver, UnitsType\n",
    "from qiskit.chemistry import FermionicOperator\n",
    "from qiskit import IBMQ\n",
    "from qiskit.aqua import QuantumInstance\n",
    "from qiskit.ignis.mitigation.measurement import CompleteMeasFitter\n",
    "from qiskit.providers.aer.noise import NoiseModel"
   ]
  },
  {
   "cell_type": "code",
   "execution_count": 2,
   "metadata": {},
   "outputs": [],
   "source": [
    "def get_qubit_op(dist):\n",
    "    driver = PySCFDriver(atom=\"Be .0 .0 .0; H .0 .0 -\" + str(dist) + \"; H .0 .0 \" + str(dist), unit=UnitsType.ANGSTROM, \n",
    "                         charge=0, spin=0, basis='sto3g')\n",
    "    molecule = driver.run()\n",
    "    freeze_list = [0]\n",
    "    remove_list = [-3, -2]\n",
    "    repulsion_energy = molecule.nuclear_repulsion_energy\n",
    "    num_particles = molecule.num_alpha + molecule.num_beta\n",
    "    num_spin_orbitals = molecule.num_orbitals * 2\n",
    "    remove_list = [x % molecule.num_orbitals for x in remove_list]\n",
    "    freeze_list = [x % molecule.num_orbitals for x in freeze_list]\n",
    "    remove_list = [x - len(freeze_list) for x in remove_list]\n",
    "    remove_list += [x + molecule.num_orbitals - len(freeze_list)  for x in remove_list]\n",
    "    freeze_list += [x + molecule.num_orbitals for x in freeze_list]\n",
    "    ferOp = FermionicOperator(h1=molecule.one_body_integrals, h2=molecule.two_body_integrals)\n",
    "    ferOp, energy_shift = ferOp.fermion_mode_freezing(freeze_list)\n",
    "    num_spin_orbitals -= len(freeze_list)\n",
    "    num_particles -= len(freeze_list)\n",
    "    ferOp = ferOp.fermion_mode_elimination(remove_list)\n",
    "    num_spin_orbitals -= len(remove_list)\n",
    "    qubitOp = ferOp.mapping(map_type='parity', threshold=0.00000001)\n",
    "    qubitOp = Z2Symmetries.two_qubit_reduction(qubitOp, num_particles)\n",
    "    shift = energy_shift + repulsion_energy\n",
    "    return qubitOp, num_particles, num_spin_orbitals, shift"
   ]
  },
  {
   "cell_type": "code",
   "execution_count": 3,
   "metadata": {},
   "outputs": [
    {
     "name": "stdout",
     "output_type": "stream",
     "text": [
      "Interatomic Distance: 0.5 VQE Result: -13.661015516319555 Exact Energy: [-13.66108392]\n",
      "Interatomic Distance: 0.6 VQE Result: -14.380846459601493 Exact Energy: [-14.38085785]\n",
      "Interatomic Distance: 0.7 VQE Result: -14.849657221486108 Exact Energy: [-14.8496625]\n",
      "Interatomic Distance: 0.8 VQE Result: -15.152924394456866 Exact Energy: [-15.152928]\n",
      "Interatomic Distance: 0.9 VQE Result: -15.344844408176261 Exact Energy: [-15.34484824]\n",
      "Interatomic Distance: 1.0 VQE Result: -15.461961523769805 Exact Energy: [-15.46196656]\n",
      "Interatomic Distance: 1.1 VQE Result: -15.528468851193953 Exact Energy: [-15.52847583]\n",
      "Interatomic Distance: 1.2 VQE Result: -15.560416432233101 Exact Energy: [-15.56042602]\n",
      "Interatomic Distance: 1.3 VQE Result: -15.568612516390516 Exact Energy: [-15.5686254]\n",
      "Interatomic Distance: 1.4 VQE Result: -15.56042879002694 Exact Energy: [-15.5604457]\n",
      "Interatomic Distance: 1.5 VQE Result: -15.540944828723084 Exact Energy: [-15.54096661]\n",
      "Interatomic Distance: 1.6 VQE Result: -15.51370660319289 Exact Energy: [-15.51373779]\n",
      "Interatomic Distance: 1.7 VQE Result: -15.481255789046752 Exact Energy: [-15.48129162]\n",
      "Interatomic Distance: 1.8 VQE Result: -15.445433085049281 Exact Energy: [-15.44548034]\n",
      "Interatomic Distance: 1.9 VQE Result: -15.407638975704756 Exact Energy: [-15.4076929]\n",
      "Interatomic Distance: 2.0 VQE Result: -15.438125653340958 Exact Energy: [-15.43902234]\n",
      "Interatomic Distance: 2.1 VQE Result: -15.411046706848675 Exact Energy: [-15.41234036]\n",
      "Interatomic Distance: 2.2 VQE Result: -15.385925521247442 Exact Energy: [-15.38782939]\n",
      "Interatomic Distance: 2.3 VQE Result: -15.363387601011555 Exact Energy: [-15.36610743]\n",
      "Interatomic Distance: 2.4 VQE Result: -15.34403153137505 Exact Energy: [-15.34767777]\n",
      "Interatomic Distance: 2.5 VQE Result: -15.328348513482998 Exact Energy: [-15.33291996]\n",
      "Interatomic Distance: 2.6 VQE Result: -15.31652729280034 Exact Energy: [-15.32199759]\n",
      "Interatomic Distance: 2.7 VQE Result: -15.308346637681073 Exact Energy: [-15.31468117]\n",
      "Interatomic Distance: 2.8 VQE Result: -15.3032120425197 Exact Energy: [-15.31027886]\n",
      "Interatomic Distance: 2.9 VQE Result: -15.300333989377137 Exact Energy: [-15.30787443]\n",
      "Interatomic Distance: 3.0 VQE Result: -15.298934388207098 Exact Energy: [-15.30666589]\n",
      "Interatomic Distance: 3.1 VQE Result: -15.29820023322111 Exact Energy: [-15.30610904]\n",
      "Interatomic Distance: 3.2 VQE Result: -15.298495307905432 Exact Energy: [-15.30588424]\n",
      "Interatomic Distance: 3.3 VQE Result: -15.298855562150747 Exact Energy: [-15.30581792]\n",
      "Interatomic Distance: 3.4 VQE Result: -15.299547411171334 Exact Energy: [-15.30582037]\n",
      "Interatomic Distance: 3.5 VQE Result: -15.300507295879902 Exact Energy: [-15.30584735]\n",
      "Interatomic Distance: 3.6 VQE Result: -15.301560667710433 Exact Energy: [-15.30587853]\n",
      "Interatomic Distance: 3.7 VQE Result: -15.302590737343838 Exact Energy: [-15.30590564]\n",
      "Interatomic Distance: 3.8 VQE Result: -15.303475334607885 Exact Energy: [-15.3059263]\n",
      "Interatomic Distance: 3.9 VQE Result: -15.304180638298018 Exact Energy: [-15.3059407]\n",
      "All energies have been calculated\n"
     ]
    }
   ],
   "source": [
    "backend = BasicAer.get_backend(\"statevector_simulator\")\n",
    "distances = np.arange(0.5, 4.0, 0.1)\n",
    "exact_energies = []\n",
    "vqe_energies = []\n",
    "optimizer = SLSQP(maxiter=5)\n",
    "for dist in distances:\n",
    "    qubitOp, num_particles, num_spin_orbitals, shift = get_qubit_op(dist)\n",
    "    result = NumPyEigensolver(qubitOp).run()\n",
    "    exact_energies.append(np.real(result.eigenvalues) + shift)\n",
    "    initial_state = HartreeFock(\n",
    "        num_spin_orbitals,\n",
    "        num_particles,\n",
    "        qubit_mapping='parity'\n",
    "    ) \n",
    "    var_form = UCCSD(\n",
    "        num_orbitals=num_spin_orbitals,\n",
    "        num_particles=num_particles,\n",
    "        initial_state=initial_state,\n",
    "        qubit_mapping='parity'\n",
    "    )\n",
    "    vqe = VQE(qubitOp, var_form, optimizer)\n",
    "    vqe_result = np.real(vqe.run(backend)['eigenvalue'] + shift)\n",
    "    vqe_energies.append(vqe_result)\n",
    "    print(\"Interatomic Distance:\", np.round(dist, 2), \"VQE Result:\", vqe_result, \"Exact Energy:\", exact_energies[-1])\n",
    "    \n",
    "print(\"All energies have been calculated\")"
   ]
  },
  {
   "cell_type": "code",
   "execution_count": 4,
   "metadata": {},
   "outputs": [
    {
     "data": {
      "image/png": "[encoded data removed]",
      "text/plain": [
       "<Figure size 432x288 with 1 Axes>"
      ]
     },
     "metadata": {
      "needs_background": "light"
     },
     "output_type": "display_data"
    }
   ],
   "source": [
    "plt.plot(distances, exact_energies, label=\"Exact Energy\")\n",
    "plt.plot(distances, vqe_energies, label=\"VQE Energy\")\n",
    "plt.xlabel('Atomic distance (Angstrom)')\n",
    "plt.ylabel('Energy')\n",
    "plt.legend()\n",
    "plt.show()"
   ]
  },
  {
   "cell_type": "code",
   "execution_count": null,
   "metadata": {},
   "outputs": [],
   "source": []
  }
 ],
 "metadata": {
  "kernelspec": {
   "display_name": "Python 3",
   "language": "python",
   "name": "python3"
  },
  "language_info": {
   "codemirror_mode": {
    "name": "ipython",
    "version": 3
   },
   "file_extension": ".py",
   "mimetype": "text/x-python",
   "name": "python",
   "nbconvert_exporter": "python",
   "pygments_lexer": "ipython3",
   "version": "3.7.4"
  }
 },
 "nbformat": 4,
 "nbformat_minor": 2
}
